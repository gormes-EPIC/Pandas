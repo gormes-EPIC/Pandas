{
 "cells": [
  {
   "cell_type": "markdown",
   "metadata": {},
   "source": [
    "# Lab 0.5 - Manipulating Datasets with Pandas\n",
    "\n",
    "## Objective\n",
    "- Install and learn the basics of the `pandas` library.\n",
    "- Manipulate and analyze datasets, finding basic statistics and adding/removing columns.\n",
    "- Create data visualizations using `matplotlib`.\n",
    "\n",
    "## Rubric\n",
    "- 6 pts - Contains all required components and uses professional language and commenting\n",
    "- 5 pts - Contains all required components, but uses unprofessional language, commenting, etc. \n",
    "- 4 pts - Contains some, but not all, of the required components\n",
    "- 3 pts - Did not submit"
   ]
  },
  {
   "cell_type": "markdown",
   "metadata": {},
   "source": [
    "# Instructions\n",
    "\n",
    "Fill in the following code boxes. **Answer the numbered questions in comments next to the code you used to find the answer**."
   ]
  },
  {
   "cell_type": "markdown",
   "metadata": {},
   "source": [
    "# Problem 1: Weather Data\n",
    "\n",
    "We are going to analyze the dataset you created. Use `import pandas as pd` to import the `pandas` library. Then use `df = pd.read_csv(\"filename.csv\")` to create a `DataFrame` called `df`. "
   ]
  },
  {
   "cell_type": "code",
   "execution_count": 80,
   "metadata": {},
   "outputs": [],
   "source": []
  },
  {
   "cell_type": "markdown",
   "metadata": {},
   "source": [
    "### `pandas` method reference\n",
    "\n",
    "- `df.head(x)` and `df.tail(x)` will give you the first or the last `x` number of rows respectively\n",
    "- `df.describe()` will give you a **five number summary** of the numeric columns\n",
    "- `df.max()` and `.min()` will with you the maximum and the minimum of the column repectively\n",
    "- `df[column]` will give you the column specified\n",
    "- `df.iloc[index]` will give you the row at a given index\n",
    "- `df.boxplot` will create a box plot of all numeric columns\n",
    "- `df.sort_values(by=col, ascending=False)`sorts the values of the col in either ascending or descending order\n"
   ]
  },
  {
   "cell_type": "markdown",
   "metadata": {},
   "source": [
    "1. What is the last entry in your table?"
   ]
  },
  {
   "cell_type": "code",
   "execution_count": 81,
   "metadata": {},
   "outputs": [
    {
     "data": {
      "text/html": [
       "<div>\n",
       "<style scoped>\n",
       "    .dataframe tbody tr th:only-of-type {\n",
       "        vertical-align: middle;\n",
       "    }\n",
       "\n",
       "    .dataframe tbody tr th {\n",
       "        vertical-align: top;\n",
       "    }\n",
       "\n",
       "    .dataframe thead th {\n",
       "        text-align: right;\n",
       "    }\n",
       "</style>\n",
       "<table border=\"1\" class=\"dataframe\">\n",
       "  <thead>\n",
       "    <tr style=\"text-align: right;\">\n",
       "      <th></th>\n",
       "      <th>date</th>\n",
       "      <th>time</th>\n",
       "      <th>temp</th>\n",
       "    </tr>\n",
       "  </thead>\n",
       "  <tbody>\n",
       "    <tr>\n",
       "      <th>10</th>\n",
       "      <td>1-29-2025</td>\n",
       "      <td>14:19:30.268401</td>\n",
       "      <td>49</td>\n",
       "    </tr>\n",
       "  </tbody>\n",
       "</table>\n",
       "</div>"
      ],
      "text/plain": [
       "         date             time  temp\n",
       "10  1-29-2025  14:19:30.268401    49"
      ]
     },
     "execution_count": 81,
     "metadata": {},
     "output_type": "execute_result"
    }
   ],
   "source": []
  },
  {
   "cell_type": "markdown",
   "metadata": {},
   "source": [
    "2. What is the average temperature(either outside or inside) over your 40 hour period. What is the lowest temperature? What is the highest temperature? "
   ]
  },
  {
   "cell_type": "code",
   "execution_count": 82,
   "metadata": {},
   "outputs": [
    {
     "data": {
      "text/html": [
       "<div>\n",
       "<style scoped>\n",
       "    .dataframe tbody tr th:only-of-type {\n",
       "        vertical-align: middle;\n",
       "    }\n",
       "\n",
       "    .dataframe tbody tr th {\n",
       "        vertical-align: top;\n",
       "    }\n",
       "\n",
       "    .dataframe thead th {\n",
       "        text-align: right;\n",
       "    }\n",
       "</style>\n",
       "<table border=\"1\" class=\"dataframe\">\n",
       "  <thead>\n",
       "    <tr style=\"text-align: right;\">\n",
       "      <th></th>\n",
       "      <th>temp</th>\n",
       "    </tr>\n",
       "  </thead>\n",
       "  <tbody>\n",
       "    <tr>\n",
       "      <th>count</th>\n",
       "      <td>11.000000</td>\n",
       "    </tr>\n",
       "    <tr>\n",
       "      <th>mean</th>\n",
       "      <td>43.909091</td>\n",
       "    </tr>\n",
       "    <tr>\n",
       "      <th>std</th>\n",
       "      <td>3.269696</td>\n",
       "    </tr>\n",
       "    <tr>\n",
       "      <th>min</th>\n",
       "      <td>40.000000</td>\n",
       "    </tr>\n",
       "    <tr>\n",
       "      <th>25%</th>\n",
       "      <td>41.500000</td>\n",
       "    </tr>\n",
       "    <tr>\n",
       "      <th>50%</th>\n",
       "      <td>44.000000</td>\n",
       "    </tr>\n",
       "    <tr>\n",
       "      <th>75%</th>\n",
       "      <td>44.500000</td>\n",
       "    </tr>\n",
       "    <tr>\n",
       "      <th>max</th>\n",
       "      <td>50.000000</td>\n",
       "    </tr>\n",
       "  </tbody>\n",
       "</table>\n",
       "</div>"
      ],
      "text/plain": [
       "            temp\n",
       "count  11.000000\n",
       "mean   43.909091\n",
       "std     3.269696\n",
       "min    40.000000\n",
       "25%    41.500000\n",
       "50%    44.000000\n",
       "75%    44.500000\n",
       "max    50.000000"
      ]
     },
     "execution_count": 82,
     "metadata": {},
     "output_type": "execute_result"
    }
   ],
   "source": []
  },
  {
   "cell_type": "markdown",
   "metadata": {},
   "source": [
    "3. Create a boxplot of the temperatures."
   ]
  },
  {
   "cell_type": "code",
   "execution_count": 83,
   "metadata": {},
   "outputs": [
    {
     "data": {
      "text/plain": [
       "<Axes: >"
      ]
     },
     "execution_count": 83,
     "metadata": {},
     "output_type": "execute_result"
    },
    {
     "data": {
      "image/png": "[encoded data removed]",
      "text/plain": [
       "<Figure size 640x480 with 1 Axes>"
      ]
     },
     "metadata": {},
     "output_type": "display_data"
    }
   ],
   "source": []
  },
  {
   "cell_type": "markdown",
   "metadata": {},
   "source": [
    "4. Create a plot of temperature over time with `matplotlib`. \n",
    "\n",
    "Import the library with `import matplotlib.pyplot as plt`. The `plot()` method creates a line graphs of temperature over time. Use `plt.plot(df['x_col'],df['y_col'],marker='h')` then `plt.show()` to create your plot of temperature over time. \n",
    "\n",
    "Before `plt.show()`, add the following methods to modify your graph. Remember, **good graphs always have axis labels, a title, clear units etc.**\n",
    "\n",
    "```\n",
    "plt.xlabel('') # labels the x-axis\n",
    "plt.ylabel('') # labels the y-axis\n",
    "plt.title('') # adds a graph title\n",
    "plt.grid() # adds gridlines\n",
    "plt.legend() # adds a legend\n",
    "plt.xticks(rotation=90) # rotates the x-axis tick lables\n",
    "plt.yticks(rotation=90) # rotates the y-axis tick lables\n",
    "```"
   ]
  },
  {
   "cell_type": "code",
   "execution_count": 84,
   "metadata": {},
   "outputs": [
    {
     "data": {
      "image/png": "[encoded data removed]",
      "text/plain": [
       "<Figure size 640x480 with 1 Axes>"
      ]
     },
     "metadata": {},
     "output_type": "display_data"
    }
   ],
   "source": []
  },
  {
   "cell_type": "markdown",
   "metadata": {},
   "source": [
    "5. Define a new column called `kelvin` which is your `celsius` column + 273.15. "
   ]
  },
  {
   "cell_type": "code",
   "execution_count": 85,
   "metadata": {},
   "outputs": [],
   "source": []
  },
  {
   "cell_type": "markdown",
   "metadata": {},
   "source": [
    "6. Get the record(row) at 2:30PM \n"
   ]
  },
  {
   "cell_type": "code",
   "execution_count": 86,
   "metadata": {},
   "outputs": [
    {
     "data": {
      "text/plain": [
       "date            1-29-2025\n",
       "time      14:19:27.896708\n",
       "temp                   44\n",
       "kelvin             317.15\n",
       "Name: 8, dtype: object"
      ]
     },
     "execution_count": 86,
     "metadata": {},
     "output_type": "execute_result"
    }
   ],
   "source": []
  },
  {
   "cell_type": "markdown",
   "metadata": {},
   "source": [
    "# Problem 2: Population Data\n",
    "\n",
    "In this example we will fetch data about countries and their predicted populations from [Wikipedia](http://en.wikipedia.org/wiki/List_of_countries_by_past_and_future_population).\n",
    "\n",
    "I have done the web scraping and creation of a `DataFrame`,`df_a`."
   ]
  },
  {
   "cell_type": "code",
   "execution_count": 87,
   "metadata": {},
   "outputs": [],
   "source": [
    "import numpy as np\n",
    "import pandas as pd\n",
    "import requests\n",
    "from bs4 import BeautifulSoup\n",
    "\n",
    "\n",
    "url = 'http://en.wikipedia.org/wiki/List_of_countries_by_past_and_future_population'\n",
    "page = requests.get(url)\n",
    "soup = BeautifulSoup(page.content, \"html.parser\")\n",
    "\n",
    "tbody = soup.find_all(\"tbody\")\n",
    "tr = tbody[0].find_all(\"tr\")\n",
    "arr = []\n",
    "mat = []\n",
    "for t in tr:\n",
    "    lst = t.text.split(\"\\n\")\n",
    "    for l in lst:\n",
    "        if l == \"\":\n",
    "            if arr != []:\n",
    "                arr = arr[0:2] + arr[2::2]\n",
    "                mat.append(arr)\n",
    "                arr = []\n",
    "        else:\n",
    "            try: \n",
    "                arr.append(int(l.lstrip('\\xa0').replace(\",\",\"\")))\n",
    "            except ValueError:\n",
    "                arr.append(str(l.lstrip('\\xa0').replace(\",\",\"\")))\n",
    "titles = mat[0]\n",
    "titles[0] = \"countries\"\n",
    "mat = mat[1:]\n",
    "df_a = pd.DataFrame.from_records(mat, columns=titles) \n"
   ]
  },
  {
   "cell_type": "markdown",
   "metadata": {},
   "source": [
    "1. A 5 number summary of `df_a`"
   ]
  },
  {
   "cell_type": "code",
   "execution_count": 88,
   "metadata": {},
   "outputs": [
    {
     "data": {
      "text/html": [
       "<div>\n",
       "<style scoped>\n",
       "    .dataframe tbody tr th:only-of-type {\n",
       "        vertical-align: middle;\n",
       "    }\n",
       "\n",
       "    .dataframe tbody tr th {\n",
       "        vertical-align: top;\n",
       "    }\n",
       "\n",
       "    .dataframe thead th {\n",
       "        text-align: right;\n",
       "    }\n",
       "</style>\n",
       "<table border=\"1\" class=\"dataframe\">\n",
       "  <thead>\n",
       "    <tr style=\"text-align: right;\">\n",
       "      <th></th>\n",
       "      <th>2024</th>\n",
       "      <th>2030</th>\n",
       "      <th>2100</th>\n",
       "    </tr>\n",
       "  </thead>\n",
       "  <tbody>\n",
       "    <tr>\n",
       "      <th>count</th>\n",
       "      <td>2.580000e+02</td>\n",
       "      <td>2.580000e+02</td>\n",
       "      <td>2.580000e+02</td>\n",
       "    </tr>\n",
       "    <tr>\n",
       "      <th>mean</th>\n",
       "      <td>1.409838e+08</td>\n",
       "      <td>1.483421e+08</td>\n",
       "      <td>1.758736e+08</td>\n",
       "    </tr>\n",
       "    <tr>\n",
       "      <th>std</th>\n",
       "      <td>6.587727e+08</td>\n",
       "      <td>6.906787e+08</td>\n",
       "      <td>8.173571e+08</td>\n",
       "    </tr>\n",
       "    <tr>\n",
       "      <th>min</th>\n",
       "      <td>5.260000e+02</td>\n",
       "      <td>5.610000e+02</td>\n",
       "      <td>1.237000e+03</td>\n",
       "    </tr>\n",
       "    <tr>\n",
       "      <th>25%</th>\n",
       "      <td>5.999040e+05</td>\n",
       "      <td>6.259820e+05</td>\n",
       "      <td>6.768595e+05</td>\n",
       "    </tr>\n",
       "    <tr>\n",
       "      <th>50%</th>\n",
       "      <td>6.893438e+06</td>\n",
       "      <td>7.254900e+06</td>\n",
       "      <td>8.156020e+06</td>\n",
       "    </tr>\n",
       "    <tr>\n",
       "      <th>75%</th>\n",
       "      <td>3.483818e+07</td>\n",
       "      <td>3.830878e+07</td>\n",
       "      <td>5.201191e+07</td>\n",
       "    </tr>\n",
       "    <tr>\n",
       "      <th>max</th>\n",
       "      <td>8.118836e+09</td>\n",
       "      <td>8.546141e+09</td>\n",
       "      <td>1.034932e+10</td>\n",
       "    </tr>\n",
       "  </tbody>\n",
       "</table>\n",
       "</div>"
      ],
      "text/plain": [
       "               2024          2030          2100\n",
       "count  2.580000e+02  2.580000e+02  2.580000e+02\n",
       "mean   1.409838e+08  1.483421e+08  1.758736e+08\n",
       "std    6.587727e+08  6.906787e+08  8.173571e+08\n",
       "min    5.260000e+02  5.610000e+02  1.237000e+03\n",
       "25%    5.999040e+05  6.259820e+05  6.768595e+05\n",
       "50%    6.893438e+06  7.254900e+06  8.156020e+06\n",
       "75%    3.483818e+07  3.830878e+07  5.201191e+07\n",
       "max    8.118836e+09  8.546141e+09  1.034932e+10"
      ]
     },
     "execution_count": 88,
     "metadata": {},
     "output_type": "execute_result"
    }
   ],
   "source": []
  },
  {
   "cell_type": "markdown",
   "metadata": {},
   "source": [
    "2. How is the `DataFrame` currently indexed? If it is not already, make the `countries` column the index."
   ]
  },
  {
   "cell_type": "code",
   "execution_count": 89,
   "metadata": {},
   "outputs": [
    {
     "data": {
      "text/html": [
       "<div>\n",
       "<style scoped>\n",
       "    .dataframe tbody tr th:only-of-type {\n",
       "        vertical-align: middle;\n",
       "    }\n",
       "\n",
       "    .dataframe tbody tr th {\n",
       "        vertical-align: top;\n",
       "    }\n",
       "\n",
       "    .dataframe thead th {\n",
       "        text-align: right;\n",
       "    }\n",
       "</style>\n",
       "<table border=\"1\" class=\"dataframe\">\n",
       "  <thead>\n",
       "    <tr style=\"text-align: right;\">\n",
       "      <th></th>\n",
       "      <th>countries</th>\n",
       "      <th>2024</th>\n",
       "      <th>2030</th>\n",
       "      <th>2100</th>\n",
       "    </tr>\n",
       "    <tr>\n",
       "      <th>index</th>\n",
       "      <th></th>\n",
       "      <th></th>\n",
       "      <th></th>\n",
       "      <th></th>\n",
       "    </tr>\n",
       "  </thead>\n",
       "  <tbody>\n",
       "    <tr>\n",
       "      <th>World</th>\n",
       "      <td>World</td>\n",
       "      <td>8118836000</td>\n",
       "      <td>8546141000</td>\n",
       "      <td>10349323000</td>\n",
       "    </tr>\n",
       "    <tr>\n",
       "      <th>Asia</th>\n",
       "      <td>Asia</td>\n",
       "      <td>4785060000</td>\n",
       "      <td>4958807000</td>\n",
       "      <td>4674249000</td>\n",
       "    </tr>\n",
       "    <tr>\n",
       "      <th>Africa</th>\n",
       "      <td>Africa</td>\n",
       "      <td>1494994000</td>\n",
       "      <td>1710666000</td>\n",
       "      <td>3924421000</td>\n",
       "    </tr>\n",
       "    <tr>\n",
       "      <th>Sub-Saharan Africa</th>\n",
       "      <td>Sub-Saharan Africa</td>\n",
       "      <td>1226534000</td>\n",
       "      <td>1417346000</td>\n",
       "      <td>3442347000</td>\n",
       "    </tr>\n",
       "    <tr>\n",
       "      <th>Central Asia and South Asia</th>\n",
       "      <td>Central Asia and South Asia</td>\n",
       "      <td>2128585000</td>\n",
       "      <td>2258687000</td>\n",
       "      <td>2559659000</td>\n",
       "    </tr>\n",
       "    <tr>\n",
       "      <th>...</th>\n",
       "      <td>...</td>\n",
       "      <td>...</td>\n",
       "      <td>...</td>\n",
       "      <td>...</td>\n",
       "    </tr>\n",
       "    <tr>\n",
       "      <th>Venezuela</th>\n",
       "      <td>Venezuela</td>\n",
       "      <td>29395334</td>\n",
       "      <td>32027461</td>\n",
       "      <td>35353213</td>\n",
       "    </tr>\n",
       "    <tr>\n",
       "      <th>Vietnam</th>\n",
       "      <td>Vietnam</td>\n",
       "      <td>99497680</td>\n",
       "      <td>102699905</td>\n",
       "      <td>91036732</td>\n",
       "    </tr>\n",
       "    <tr>\n",
       "      <th>Yemen</th>\n",
       "      <td>Yemen</td>\n",
       "      <td>35219853</td>\n",
       "      <td>39923245</td>\n",
       "      <td>74176034</td>\n",
       "    </tr>\n",
       "    <tr>\n",
       "      <th>Zambia</th>\n",
       "      <td>Zambia</td>\n",
       "      <td>21314956</td>\n",
       "      <td>25024901</td>\n",
       "      <td>64473916</td>\n",
       "    </tr>\n",
       "    <tr>\n",
       "      <th>Zimbabwe</th>\n",
       "      <td>Zimbabwe</td>\n",
       "      <td>16634373</td>\n",
       "      <td>18610348</td>\n",
       "      <td>37166572</td>\n",
       "    </tr>\n",
       "  </tbody>\n",
       "</table>\n",
       "<p>258 rows × 4 columns</p>\n",
       "</div>"
      ],
      "text/plain": [
       "                                               countries        2024  \\\n",
       "index                                                                  \n",
       "World                                              World  8118836000   \n",
       "Asia                                                Asia  4785060000   \n",
       "Africa                                            Africa  1494994000   \n",
       "Sub-Saharan Africa                    Sub-Saharan Africa  1226534000   \n",
       "Central Asia and South Asia  Central Asia and South Asia  2128585000   \n",
       "...                                                  ...         ...   \n",
       "Venezuela                                      Venezuela    29395334   \n",
       "Vietnam                                          Vietnam    99497680   \n",
       "Yemen                                              Yemen    35219853   \n",
       "Zambia                                            Zambia    21314956   \n",
       "Zimbabwe                                        Zimbabwe    16634373   \n",
       "\n",
       "                                   2030         2100  \n",
       "index                                                 \n",
       "World                        8546141000  10349323000  \n",
       "Asia                         4958807000   4674249000  \n",
       "Africa                       1710666000   3924421000  \n",
       "Sub-Saharan Africa           1417346000   3442347000  \n",
       "Central Asia and South Asia  2258687000   2559659000  \n",
       "...                                 ...          ...  \n",
       "Venezuela                      32027461     35353213  \n",
       "Vietnam                       102699905     91036732  \n",
       "Yemen                          39923245     74176034  \n",
       "Zambia                         25024901     64473916  \n",
       "Zimbabwe                       18610348     37166572  \n",
       "\n",
       "[258 rows x 4 columns]"
      ]
     },
     "execution_count": 89,
     "metadata": {},
     "output_type": "execute_result"
    }
   ],
   "source": []
  },
  {
   "cell_type": "markdown",
   "metadata": {},
   "source": [
    "3. What is the largest population listed for 2030?"
   ]
  },
  {
   "cell_type": "code",
   "execution_count": 91,
   "metadata": {},
   "outputs": [
    {
     "data": {
      "text/plain": [
       "8546141000"
      ]
     },
     "execution_count": 91,
     "metadata": {},
     "output_type": "execute_result"
    }
   ],
   "source": []
  },
  {
   "cell_type": "markdown",
   "metadata": {},
   "source": [
    "4. What was the population of Austria from now to 2100?"
   ]
  },
  {
   "cell_type": "code",
   "execution_count": 92,
   "metadata": {},
   "outputs": [
    {
     "data": {
      "text/html": [
       "<div>\n",
       "<style scoped>\n",
       "    .dataframe tbody tr th:only-of-type {\n",
       "        vertical-align: middle;\n",
       "    }\n",
       "\n",
       "    .dataframe tbody tr th {\n",
       "        vertical-align: top;\n",
       "    }\n",
       "\n",
       "    .dataframe thead th {\n",
       "        text-align: right;\n",
       "    }\n",
       "</style>\n",
       "<table border=\"1\" class=\"dataframe\">\n",
       "  <thead>\n",
       "    <tr style=\"text-align: right;\">\n",
       "      <th></th>\n",
       "      <th>countries</th>\n",
       "      <th>2024</th>\n",
       "      <th>2030</th>\n",
       "      <th>2100</th>\n",
       "    </tr>\n",
       "    <tr>\n",
       "      <th>index</th>\n",
       "      <th></th>\n",
       "      <th></th>\n",
       "      <th></th>\n",
       "      <th></th>\n",
       "    </tr>\n",
       "  </thead>\n",
       "  <tbody>\n",
       "    <tr>\n",
       "      <th>Austria</th>\n",
       "      <td>Austria</td>\n",
       "      <td>9120813</td>\n",
       "      <td>9080346</td>\n",
       "      <td>7399328</td>\n",
       "    </tr>\n",
       "  </tbody>\n",
       "</table>\n",
       "</div>"
      ],
      "text/plain": [
       "        countries     2024     2030     2100\n",
       "index                                       \n",
       "Austria   Austria  9120813  9080346  7399328"
      ]
     },
     "execution_count": 92,
     "metadata": {},
     "output_type": "execute_result"
    }
   ],
   "source": []
  },
  {
   "cell_type": "markdown",
   "metadata": {},
   "source": [
    "5. What will the population be of France in 2030?"
   ]
  },
  {
   "cell_type": "code",
   "execution_count": 93,
   "metadata": {},
   "outputs": [
    {
     "data": {
      "text/plain": [
       "index\n",
       "France    65543452\n",
       "Name: 2030, dtype: int64"
      ]
     },
     "execution_count": 93,
     "metadata": {},
     "output_type": "execute_result"
    }
   ],
   "source": []
  },
  {
   "cell_type": "markdown",
   "metadata": {},
   "source": [
    "6. What 5 entries will have the highest population in 2100? Display their records."
   ]
  },
  {
   "cell_type": "code",
   "execution_count": 94,
   "metadata": {},
   "outputs": [
    {
     "data": {
      "text/html": [
       "<div>\n",
       "<style scoped>\n",
       "    .dataframe tbody tr th:only-of-type {\n",
       "        vertical-align: middle;\n",
       "    }\n",
       "\n",
       "    .dataframe tbody tr th {\n",
       "        vertical-align: top;\n",
       "    }\n",
       "\n",
       "    .dataframe thead th {\n",
       "        text-align: right;\n",
       "    }\n",
       "</style>\n",
       "<table border=\"1\" class=\"dataframe\">\n",
       "  <thead>\n",
       "    <tr style=\"text-align: right;\">\n",
       "      <th></th>\n",
       "      <th>countries</th>\n",
       "      <th>2024</th>\n",
       "      <th>2030</th>\n",
       "      <th>2100</th>\n",
       "    </tr>\n",
       "    <tr>\n",
       "      <th>index</th>\n",
       "      <th></th>\n",
       "      <th></th>\n",
       "      <th></th>\n",
       "      <th></th>\n",
       "    </tr>\n",
       "  </thead>\n",
       "  <tbody>\n",
       "    <tr>\n",
       "      <th>World</th>\n",
       "      <td>World</td>\n",
       "      <td>8118836000</td>\n",
       "      <td>8546141000</td>\n",
       "      <td>10349323000</td>\n",
       "    </tr>\n",
       "    <tr>\n",
       "      <th>Asia</th>\n",
       "      <td>Asia</td>\n",
       "      <td>4785060000</td>\n",
       "      <td>4958807000</td>\n",
       "      <td>4674249000</td>\n",
       "    </tr>\n",
       "    <tr>\n",
       "      <th>Africa</th>\n",
       "      <td>Africa</td>\n",
       "      <td>1494994000</td>\n",
       "      <td>1710666000</td>\n",
       "      <td>3924421000</td>\n",
       "    </tr>\n",
       "    <tr>\n",
       "      <th>Sub-Saharan Africa</th>\n",
       "      <td>Sub-Saharan Africa</td>\n",
       "      <td>1226534000</td>\n",
       "      <td>1417346000</td>\n",
       "      <td>3442347000</td>\n",
       "    </tr>\n",
       "    <tr>\n",
       "      <th>Central Asia and South Asia</th>\n",
       "      <td>Central Asia and South Asia</td>\n",
       "      <td>2128585000</td>\n",
       "      <td>2258687000</td>\n",
       "      <td>2559659000</td>\n",
       "    </tr>\n",
       "    <tr>\n",
       "      <th>...</th>\n",
       "      <td>...</td>\n",
       "      <td>...</td>\n",
       "      <td>...</td>\n",
       "      <td>...</td>\n",
       "    </tr>\n",
       "    <tr>\n",
       "      <th>Saint Helena Ascension and Tristan da Cunha</th>\n",
       "      <td>Saint Helena Ascension and Tristan da Cunha</td>\n",
       "      <td>5253</td>\n",
       "      <td>4895</td>\n",
       "      <td>2803</td>\n",
       "    </tr>\n",
       "    <tr>\n",
       "      <th>Falkland Islands</th>\n",
       "      <td>Falkland Islands</td>\n",
       "      <td>3803</td>\n",
       "      <td>3869</td>\n",
       "      <td>2773</td>\n",
       "    </tr>\n",
       "    <tr>\n",
       "      <th>Montserrat</th>\n",
       "      <td>Montserrat</td>\n",
       "      <td>4372</td>\n",
       "      <td>4301</td>\n",
       "      <td>2575</td>\n",
       "    </tr>\n",
       "    <tr>\n",
       "      <th>Niue</th>\n",
       "      <td>Niue</td>\n",
       "      <td>1935</td>\n",
       "      <td>1948</td>\n",
       "      <td>2225</td>\n",
       "    </tr>\n",
       "    <tr>\n",
       "      <th>Vatican City</th>\n",
       "      <td>Vatican City</td>\n",
       "      <td>526</td>\n",
       "      <td>561</td>\n",
       "      <td>1237</td>\n",
       "    </tr>\n",
       "  </tbody>\n",
       "</table>\n",
       "<p>258 rows × 4 columns</p>\n",
       "</div>"
      ],
      "text/plain": [
       "                                                                               countries  \\\n",
       "index                                                                                      \n",
       "World                                                                              World   \n",
       "Asia                                                                                Asia   \n",
       "Africa                                                                            Africa   \n",
       "Sub-Saharan Africa                                                    Sub-Saharan Africa   \n",
       "Central Asia and South Asia                                  Central Asia and South Asia   \n",
       "...                                                                                  ...   \n",
       "Saint Helena Ascension and Tristan da Cunha  Saint Helena Ascension and Tristan da Cunha   \n",
       "Falkland Islands                                                        Falkland Islands   \n",
       "Montserrat                                                                    Montserrat   \n",
       "Niue                                                                                Niue   \n",
       "Vatican City                                                                Vatican City   \n",
       "\n",
       "                                                   2024        2030  \\\n",
       "index                                                                 \n",
       "World                                        8118836000  8546141000   \n",
       "Asia                                         4785060000  4958807000   \n",
       "Africa                                       1494994000  1710666000   \n",
       "Sub-Saharan Africa                           1226534000  1417346000   \n",
       "Central Asia and South Asia                  2128585000  2258687000   \n",
       "...                                                 ...         ...   \n",
       "Saint Helena Ascension and Tristan da Cunha        5253        4895   \n",
       "Falkland Islands                                   3803        3869   \n",
       "Montserrat                                         4372        4301   \n",
       "Niue                                               1935        1948   \n",
       "Vatican City                                        526         561   \n",
       "\n",
       "                                                    2100  \n",
       "index                                                     \n",
       "World                                        10349323000  \n",
       "Asia                                          4674249000  \n",
       "Africa                                        3924421000  \n",
       "Sub-Saharan Africa                            3442347000  \n",
       "Central Asia and South Asia                   2559659000  \n",
       "...                                                  ...  \n",
       "Saint Helena Ascension and Tristan da Cunha         2803  \n",
       "Falkland Islands                                    2773  \n",
       "Montserrat                                          2575  \n",
       "Niue                                                2225  \n",
       "Vatican City                                        1237  \n",
       "\n",
       "[258 rows x 4 columns]"
      ]
     },
     "execution_count": 94,
     "metadata": {},
     "output_type": "execute_result"
    }
   ],
   "source": []
  },
  {
   "cell_type": "markdown",
   "metadata": {},
   "source": [
    "7. What was country with the smallest population in 2024?"
   ]
  },
  {
   "cell_type": "code",
   "execution_count": 96,
   "metadata": {},
   "outputs": [
    {
     "data": {
      "text/plain": [
       "'Vatican City'"
      ]
     },
     "execution_count": 96,
     "metadata": {},
     "output_type": "execute_result"
    }
   ],
   "source": []
  },
  {
   "cell_type": "markdown",
   "metadata": {},
   "source": [
    "8. Create a plot with `plot()` to compare the population of Austria, Germany, United States, and France from 2024-2100. Your graph needs to include a  proper title, axis labels, and legend."
   ]
  },
  {
   "cell_type": "code",
   "execution_count": null,
   "metadata": {},
   "outputs": [],
   "source": []
  }
 ],
 "metadata": {
  "kernelspec": {
   "display_name": "base",
   "language": "python",
   "name": "python3"
  },
  "language_info": {
   "codemirror_mode": {
    "name": "ipython",
    "version": 3
   },
   "file_extension": ".py",
   "mimetype": "text/x-python",
   "name": "python",
   "nbconvert_exporter": "python",
   "pygments_lexer": "ipython3",
   "version": "3.11.5"
  }
 },
 "nbformat": 4,
 "nbformat_minor": 2
}
